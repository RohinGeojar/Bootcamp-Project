{
  "nbformat": 4,
  "nbformat_minor": 0,
  "metadata": {
    "colab": {
      "name": "Bootcamp Project.ipynb",
      "provenance": [],
      "collapsed_sections": []
    },
    "kernelspec": {
      "name": "python3",
      "display_name": "Python 3"
    },
    "language_info": {
      "name": "python"
    }
  },
  "cells": [
    {
      "cell_type": "code",
      "metadata": {
        "colab": {
          "base_uri": "https://localhost:8080/"
        },
        "id": "xr39hI2ucw-E",
        "outputId": "812253d6-154c-4969-acbd-dc02fd8b309c"
      },
      "source": [
        "import requests\n",
        "\n",
        "api_key = '9b07321f040ee3d8ab7113da9bf77fdc'\n",
        "city_name = input(\"Enter the City Name:  \")\n",
        "\n",
        "complete_api_link =\"https://api.openweathermap.org/data/2.5/weather?q=\"+city_name+\"&appid=\"+api_key\n",
        "api_link = requests.get(complete_api_link)\n",
        "api_data = api_link.json()\n",
        "\n",
        "tempt = ((api_data['main']['temp']) - 273.15)\n",
        "w_desc = api_data['weather'][0]['description']\n",
        "w_speed = api_data['wind']['speed']\n",
        "humd = api_data['main']['humidity']\n",
        "\n",
        "print(\"-------------------------------------\")\n",
        "print(\"Weather Status for \"+city_name.upper())\n",
        "print(\"-------------------------------------\")\n",
        "print(\"Current Temperature        : {:.2f} Degree Celsius\".format(tempt))\n",
        "print(\"Current Weather Description:\" +w_desc)\n",
        "print(\"Current Wind Speed         :\" +str(w_speed)+\"KMph\")\n",
        "print(\"Current Humidity           :\" +str(humd)+\"%\")\n",
        "\n",
        "with open(\"Bootcamp Project.txt\",\"w\") as f:\n",
        "  f.write(\"-------------------------------------\\n\")\n",
        "  f.write(\"Weather Status for \"+ city_name.upper()+\"\\n\")\n",
        "  f.write(\"-------------------------------------\"+\"\\n\")\n",
        "  f.write(\"Current Temperature        : {:.2f} Degree Celsius\".format(tempt)+\"\\n\")\n",
        "  f.write(\"Current Weather Description:\" +w_desc+\"\\n\")\n",
        "  f.write(\"Current Wind Speed         :\" +str(w_speed)+\"KMph\\n\")\n",
        "  f.write(\"Current Humidity           :\" +str(humd)+\"%\")\n",
        "f.close"
      ],
      "execution_count": 2,
      "outputs": [
        {
          "output_type": "stream",
          "text": [
            "Enter the City Name:  delhi\n",
            "-------------------------------------\n",
            "Weather Status for DELHI\n",
            "-------------------------------------\n",
            "Current Temperature        : 37.05 Degree Celsius\n",
            "Current Weather Description:haze\n",
            "Current Wind Speed         :1.54KMph\n",
            "Current Humidity           :32%\n"
          ],
          "name": "stdout"
        },
        {
          "output_type": "execute_result",
          "data": {
            "text/plain": [
              "<function TextIOWrapper.close>"
            ]
          },
          "metadata": {
            "tags": []
          },
          "execution_count": 2
        }
      ]
    }
  ]
}